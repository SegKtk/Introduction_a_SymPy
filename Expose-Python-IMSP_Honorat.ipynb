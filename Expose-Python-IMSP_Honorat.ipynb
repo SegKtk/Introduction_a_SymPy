{
 "cells": [
  {
   "cell_type": "markdown",
   "id": "a5d04a54",
   "metadata": {},
   "source": [
    "![logo](logo.jpg)"
   ]
  },
  {
   "cell_type": "markdown",
   "id": "e1a88ffb",
   "metadata": {},
   "source": [
    "# <center> INTRODUCTION A SYMPY </center>"
   ]
  },
  {
   "cell_type": "markdown",
   "id": "4be68b6b",
   "metadata": {},
   "source": [
    "### <left> <b> <span style=\"color:brown;\">Présenté par : </span> </b></left>**Honorat KPATOUKPA**"
   ]
  },
  {
   "cell_type": "markdown",
   "id": "a127bf90",
   "metadata": {},
   "source": [
    "- **Installation** : `pip install sympy `"
   ]
  },
  {
   "cell_type": "markdown",
   "id": "068e7069",
   "metadata": {},
   "source": [
    "Sympy est une bibliothèque Python permettant d'effectuer du calcul symbolique. \n",
    "\n",
    "Il possède un large éventail de fonctionnalités applicables dans le domaine de l'arithmétique symbolique de base, du calcul, de l'algèbre, des mathématiques discrètes, de la physique quantique, etc\n",
    "\n",
    " - **Qu'est-ce que le calcul symbolique ?**\n",
    "\n",
    "Il traite du calcul d'objets mathématiques sous forme de symboles. Cela signifie que les objets mathématiques sont représentés exactement, pas approximativemente et les expressions mathématiques avec des variables non évaluées sont laissées sous forme symbolique.\n",
    "\n",
    "Supposons que l'on veuille utiliser les fonctions Python pour calculer les racines carrées."
   ]
  },
  {
   "cell_type": "code",
   "execution_count": 1,
   "id": "c7845c4c",
   "metadata": {},
   "outputs": [
    {
     "data": {
      "text/plain": [
       "3.0"
      ]
     },
     "execution_count": 1,
     "metadata": {},
     "output_type": "execute_result"
    }
   ],
   "source": [
    "import math\n",
    "math.sqrt(9)"
   ]
  },
  {
   "cell_type": "markdown",
   "id": "8c541b2a",
   "metadata": {},
   "source": [
    "Nous avons la réponse exacte, 3. Mais supposons que nous ayons calculé la racine carrée d'un nombre qui n'est pas un carré parfait"
   ]
  },
  {
   "cell_type": "code",
   "execution_count": 2,
   "id": "fe7a630e",
   "metadata": {},
   "outputs": [
    {
     "data": {
      "text/plain": [
       "2.8284271247461903"
      ]
     },
     "execution_count": 2,
     "metadata": {},
     "output_type": "execute_result"
    }
   ],
   "source": [
    "math.sqrt(8)"
   ]
  },
  {
   "cell_type": "markdown",
   "id": "6c313fac",
   "metadata": {},
   "source": [
    "On obtient un résultat approximatif qui n'est pas la racine carrée exacte de 8. Si tout ce qui nous importait était la forme décimale de la racine carrée de 8, nous aurions fini."
   ]
  },
  {
   "cell_type": "markdown",
   "id": "90ecb4bb",
   "metadata": {},
   "source": [
    "Mais supposons que nous voulions aller plus loin. Rappelez-vous que $ \\sqrt{8} = 2\\sqrt{2}$. Nous aurions du mal à le déduire du résultat ci-dessus. C'est là qu'intervient le calcul symbolique. Avec un système de calcul symbolique comme SymPy, les racines carrées des nombres qui ne sont pas des carrés parfaits ne sont pas évaluées par défaut et, de plus, les résultats symboliques puvent être symboliquement simplifiés."
   ]
  },
  {
   "cell_type": "code",
   "execution_count": 3,
   "id": "22890fe0",
   "metadata": {},
   "outputs": [
    {
     "data": {
      "text/latex": [
       "$\\displaystyle 2 \\sqrt{2}$"
      ],
      "text/plain": [
       "2*sqrt(2)"
      ]
     },
     "execution_count": 3,
     "metadata": {},
     "output_type": "execute_result"
    }
   ],
   "source": [
    "import sympy\n",
    "#init_printing()\n",
    "sympy.sqrt(8)"
   ]
  },
  {
   "cell_type": "markdown",
   "id": "860612b8",
   "metadata": {},
   "source": [
    "Les systèmes de calcul symbolique comme **Sympy** sont capables de calculer des expressions symboliques avec des variables. Ces variables dont définies à l'aide de `symbols`"
   ]
  },
  {
   "cell_type": "markdown",
   "id": "e88d4141",
   "metadata": {},
   "source": [
    "## <center style=\"color:red\">Les symboles et Expressions </center>"
   ]
  },
  {
   "cell_type": "markdown",
   "id": "97c79742",
   "metadata": {},
   "source": [
    "Contrairement à d'autres systèmes de calcul formel, dans SymPy, vous devez déclarer explicitement les variables symboliques."
   ]
  },
  {
   "cell_type": "code",
   "execution_count": 4,
   "id": "545fada9",
   "metadata": {},
   "outputs": [
    {
     "data": {
      "text/latex": [
       "$\\displaystyle x$"
      ],
      "text/plain": [
       "x"
      ]
     },
     "execution_count": 4,
     "metadata": {},
     "output_type": "execute_result"
    }
   ],
   "source": [
    "x,y = sympy.symbols('x y')\n",
    "x"
   ]
  },
  {
   "cell_type": "code",
   "execution_count": 5,
   "id": "1895c820",
   "metadata": {},
   "outputs": [
    {
     "data": {
      "text/latex": [
       "$\\displaystyle y$"
      ],
      "text/plain": [
       "y"
      ]
     },
     "execution_count": 5,
     "metadata": {},
     "output_type": "execute_result"
    }
   ],
   "source": [
    "y"
   ]
  },
  {
   "cell_type": "markdown",
   "id": "b5d86d24",
   "metadata": {},
   "source": [
    "Vous pouvez définir et tranformer des expressions mathématique $ x + 2y $ "
   ]
  },
  {
   "cell_type": "code",
   "execution_count": 6,
   "id": "98a3becb",
   "metadata": {},
   "outputs": [
    {
     "data": {
      "text/latex": [
       "$\\displaystyle x + 2 y$"
      ],
      "text/plain": [
       "x + 2*y"
      ]
     },
     "execution_count": 6,
     "metadata": {},
     "output_type": "execute_result"
    }
   ],
   "source": [
    "expr = x + 2*y\n",
    "expr"
   ]
  },
  {
   "cell_type": "code",
   "execution_count": 7,
   "id": "818fef9c",
   "metadata": {},
   "outputs": [
    {
     "data": {
      "text/latex": [
       "$\\displaystyle x + 2 y + 1$"
      ],
      "text/plain": [
       "x + 2*y + 1"
      ]
     },
     "execution_count": 7,
     "metadata": {},
     "output_type": "execute_result"
    }
   ],
   "source": [
    "expr + 1"
   ]
  },
  {
   "cell_type": "code",
   "execution_count": 8,
   "id": "5b0952d2",
   "metadata": {},
   "outputs": [
    {
     "data": {
      "text/latex": [
       "$\\displaystyle 2 y$"
      ],
      "text/plain": [
       "2*y"
      ]
     },
     "execution_count": 8,
     "metadata": {},
     "output_type": "execute_result"
    }
   ],
   "source": [
    "expr - x"
   ]
  },
  {
   "cell_type": "markdown",
   "id": "d036aa1b",
   "metadata": {},
   "source": [
    "Dans le cas çi-dessus, vous remarquerez qu'on a pas eu comme résultat `x + 2*y -x`mais plutot `2*y`. Le `x` et le `-x` sont automatiquement effacés. C'est similaire à quand $\\sqrt{8}$ a automatiqument tourné en $2\\sqrt{2}$."
   ]
  },
  {
   "cell_type": "code",
   "execution_count": 9,
   "id": "aca890f1",
   "metadata": {},
   "outputs": [
    {
     "data": {
      "text/latex": [
       "$\\displaystyle x \\left(x + 2 y\\right)$"
      ],
      "text/plain": [
       "x*(x + 2*y)"
      ]
     },
     "execution_count": 9,
     "metadata": {},
     "output_type": "execute_result"
    }
   ],
   "source": [
    "x * expr"
   ]
  },
  {
   "cell_type": "markdown",
   "id": "8dd33c0a",
   "metadata": {},
   "source": [
    "Là on croirait avoir $x^2 + 2xy$ au lieu de `x( x+ 2y)`. Sympy fonctionne ainsi car on pourraît préférer avoir a forme factorisée : `x( x+ 2y)` ou celle développée : $x^2 + 2xy$ grâce à la fonction `expand()`"
   ]
  },
  {
   "cell_type": "code",
   "execution_count": 10,
   "id": "8e86651e",
   "metadata": {},
   "outputs": [
    {
     "data": {
      "text/latex": [
       "$\\displaystyle x^{2} + 2 x y$"
      ],
      "text/plain": [
       "x**2 + 2*x*y"
      ]
     },
     "execution_count": 10,
     "metadata": {},
     "output_type": "execute_result"
    }
   ],
   "source": [
    "dev = sympy.expand(x * expr)\n",
    "dev"
   ]
  },
  {
   "cell_type": "markdown",
   "id": "073586bf",
   "metadata": {},
   "source": [
    "#### Substituer un symbole dans l'expression\n",
    "\n",
    "Vous pouvez évaluer un expression grâce à la fonction `subs`. Rappelez-vous : $expr = x+2y$\n"
   ]
  },
  {
   "cell_type": "code",
   "execution_count": 11,
   "id": "34ea724e",
   "metadata": {},
   "outputs": [
    {
     "data": {
      "text/latex": [
       "$\\displaystyle 3 y$"
      ],
      "text/plain": [
       "3*y"
      ]
     },
     "execution_count": 11,
     "metadata": {},
     "output_type": "execute_result"
    }
   ],
   "source": [
    "expr.subs(x,y)"
   ]
  },
  {
   "cell_type": "markdown",
   "id": "879c2cbb",
   "metadata": {},
   "source": [
    "Evaluons $expr(1,-2)$"
   ]
  },
  {
   "cell_type": "code",
   "execution_count": 12,
   "id": "0a03a935",
   "metadata": {},
   "outputs": [
    {
     "data": {
      "text/latex": [
       "$\\displaystyle -3$"
      ],
      "text/plain": [
       "-3"
      ]
     },
     "execution_count": 12,
     "metadata": {},
     "output_type": "execute_result"
    }
   ],
   "source": [
    "expr.subs([(x,1),(y,-2)])"
   ]
  },
  {
   "cell_type": "markdown",
   "id": "729a762d",
   "metadata": {},
   "source": [
    "### Les dérivés"
   ]
  },
  {
   "cell_type": "code",
   "execution_count": 13,
   "id": "d444a9a1",
   "metadata": {},
   "outputs": [
    {
     "name": "stdout",
     "output_type": "stream",
     "text": [
      "sin(x + 1) - cos(y)\n"
     ]
    },
    {
     "data": {
      "text/latex": [
       "$\\displaystyle \\cos{\\left(x + 1 \\right)}$"
      ],
      "text/plain": [
       "cos(x + 1)"
      ]
     },
     "execution_count": 13,
     "metadata": {},
     "output_type": "execute_result"
    }
   ],
   "source": [
    "from sympy import*\n",
    "epr1 = sin(x+1) - cos(y)\n",
    "print(epr1)\n",
    "diff(epr1,x)"
   ]
  },
  {
   "cell_type": "markdown",
   "id": "6c8c927b",
   "metadata": {},
   "source": [
    "### Les intérales"
   ]
  },
  {
   "cell_type": "code",
   "execution_count": 14,
   "id": "e908a702",
   "metadata": {},
   "outputs": [
    {
     "data": {
      "text/latex": [
       "$\\displaystyle x^{2}$"
      ],
      "text/plain": [
       "x**2"
      ]
     },
     "execution_count": 14,
     "metadata": {},
     "output_type": "execute_result"
    }
   ],
   "source": [
    "integrate(2*x,x)"
   ]
  },
  {
   "cell_type": "markdown",
   "id": "64b4d504",
   "metadata": {},
   "source": [
    "Calculons $ \\int_{-\\infty}^{+\\infty}{\\sin{(x^2)}} \\mathrm{d}x$"
   ]
  },
  {
   "cell_type": "code",
   "execution_count": 15,
   "id": "a095acb4",
   "metadata": {},
   "outputs": [
    {
     "data": {
      "text/latex": [
       "$\\displaystyle \\frac{\\sqrt{2} \\sqrt{\\pi}}{2}$"
      ],
      "text/plain": [
       "sqrt(2)*sqrt(pi)/2"
      ]
     },
     "execution_count": 15,
     "metadata": {},
     "output_type": "execute_result"
    }
   ],
   "source": [
    "integrate(sin(x**2),(x,-oo,oo))"
   ]
  },
  {
   "cell_type": "markdown",
   "id": "2f923191",
   "metadata": {},
   "source": [
    "### Les limites"
   ]
  },
  {
   "cell_type": "markdown",
   "id": "30e4713d",
   "metadata": {},
   "source": [
    "Calculons : $\\lim\\limits_{x \\rightarrow 0} \\frac{\\sin{x}}{x}$"
   ]
  },
  {
   "cell_type": "code",
   "execution_count": 16,
   "id": "4552879b",
   "metadata": {},
   "outputs": [
    {
     "data": {
      "text/latex": [
       "$\\displaystyle 1$"
      ],
      "text/plain": [
       "1"
      ]
     },
     "execution_count": 16,
     "metadata": {},
     "output_type": "execute_result"
    }
   ],
   "source": [
    "limit(sin(x)/x, x, 0)"
   ]
  },
  {
   "cell_type": "markdown",
   "id": "f90d22dc",
   "metadata": {},
   "source": [
    "### Résoudre une équation, un sytème d'équation et même une équation diférentielle"
   ]
  },
  {
   "cell_type": "markdown",
   "id": "c4b9f5ae",
   "metadata": {},
   "source": [
    "Résolvons $x^2 -2= 0 $"
   ]
  },
  {
   "cell_type": "code",
   "execution_count": 17,
   "id": "4b43f188",
   "metadata": {},
   "outputs": [
    {
     "data": {
      "text/plain": [
       "[-sqrt(2), sqrt(2)]"
      ]
     },
     "execution_count": 17,
     "metadata": {},
     "output_type": "execute_result"
    }
   ],
   "source": [
    "solve(x**2 -2, x)"
   ]
  },
  {
   "cell_type": "markdown",
   "id": "822433f1",
   "metadata": {},
   "source": [
    "Système d'équation  \\begin{cases}\n",
    "ax+by  &=2 \\\\\n",
    "ax-by &=c\n",
    "\\end{cases}"
   ]
  },
  {
   "cell_type": "code",
   "execution_count": 18,
   "id": "825a200a",
   "metadata": {},
   "outputs": [
    {
     "data": {
      "text/plain": [
       "{x: (c + 2)/(2*a), y: (2 - c)/(2*b)}"
      ]
     },
     "execution_count": 18,
     "metadata": {},
     "output_type": "execute_result"
    }
   ],
   "source": [
    "a, b, c = sympy.var('a, b, c')\n",
    "solution = sympy.solve([a*x + b*y - 2,\n",
    "                        a*x - b*y - c], [x, y])\n",
    "solution"
   ]
  },
  {
   "cell_type": "markdown",
   "id": "9b53262c",
   "metadata": {},
   "source": [
    "Equation différentielle : $y'' -y = e^t$. Il aut d'abord définir la fonction y."
   ]
  },
  {
   "cell_type": "code",
   "execution_count": 19,
   "id": "5f7d6cf7",
   "metadata": {},
   "outputs": [
    {
     "data": {
      "text/latex": [
       "$\\displaystyle y{\\left(t \\right)} = C_{2} e^{- t} + \\left(C_{1} + \\frac{t}{2}\\right) e^{t}$"
      ],
      "text/plain": [
       "Eq(y(t), C2*exp(-t) + (C1 + t/2)*exp(t))"
      ]
     },
     "execution_count": 19,
     "metadata": {},
     "output_type": "execute_result"
    }
   ],
   "source": [
    "t = symbols('t')\n",
    "y = Function('y')\n",
    "dsolve(Eq(y(t).diff(t,t) - y(t), exp(t)), y(t))"
   ]
  },
  {
   "cell_type": "markdown",
   "id": "e3bb6c37",
   "metadata": {},
   "source": [
    "### Les Matrices"
   ]
  },
  {
   "cell_type": "code",
   "execution_count": 20,
   "id": "b6e67b35",
   "metadata": {},
   "outputs": [
    {
     "data": {
      "text/latex": [
       "$\\displaystyle \\left[\\begin{matrix}1 & 2\\\\3 & 4\\end{matrix}\\right]$"
      ],
      "text/plain": [
       "Matrix([\n",
       "[1, 2],\n",
       "[3, 4]])"
      ]
     },
     "execution_count": 20,
     "metadata": {},
     "output_type": "execute_result"
    }
   ],
   "source": [
    "Matrix([[1, 2], [3, 4]])\n"
   ]
  },
  {
   "cell_type": "code",
   "execution_count": 32,
   "id": "04338554",
   "metadata": {},
   "outputs": [
    {
     "data": {
      "text/latex": [
       "$\\displaystyle \\left[\\begin{matrix}1\\\\2\\\\3\\end{matrix}\\right]$"
      ],
      "text/plain": [
       "Matrix([\n",
       "[1],\n",
       "[2],\n",
       "[3]])"
      ]
     },
     "execution_count": 32,
     "metadata": {},
     "output_type": "execute_result"
    }
   ],
   "source": [
    "Matrix ([[1, 0 , 0], [0, 1, 0], [0, 0, 1]])*Matrix([1, 2, 3]) \n"
   ]
  },
  {
   "cell_type": "code",
   "execution_count": 22,
   "id": "b9a5b677",
   "metadata": {},
   "outputs": [
    {
     "data": {
      "text/latex": [
       "$\\displaystyle \\left[\\begin{matrix}\\cos{\\left(x \\right)} & 1 & 0\\\\2 & - \\sin{\\left(y \\right)} & 0\\\\0 & 0 & 1\\end{matrix}\\right]$"
      ],
      "text/plain": [
       "Matrix([\n",
       "[cos(x),       1, 0],\n",
       "[     2, -sin(y), 0],\n",
       "[     0,       0, 1]])"
      ]
     },
     "execution_count": 22,
     "metadata": {},
     "output_type": "execute_result"
    }
   ],
   "source": [
    "x, y, z = symbols('x y z')\n",
    "\n",
    "Matrix([y + sin(x), x + cos(y) + x, z]).jacobian([x,y,z])\n"
   ]
  },
  {
   "cell_type": "markdown",
   "id": "12f79c2e",
   "metadata": {},
   "source": [
    "#### Valeurs propres d'une matrice"
   ]
  },
  {
   "cell_type": "code",
   "execution_count": 24,
   "id": "36f2e4e2",
   "metadata": {},
   "outputs": [
    {
     "data": {
      "text/plain": [
       "{3/2 - sqrt(17)/2: 1, 3/2 + sqrt(17)/2: 1}"
      ]
     },
     "execution_count": 24,
     "metadata": {},
     "output_type": "execute_result"
    }
   ],
   "source": [
    "Matrix([[1,2],[2,2]]).eigenvals()"
   ]
  },
  {
   "cell_type": "code",
   "execution_count": 30,
   "id": "40c47c70",
   "metadata": {},
   "outputs": [
    {
     "data": {
      "text/latex": [
       "$\\displaystyle \\left[\\begin{matrix}1 & 0 & 0\\\\0 & 1 & 0\\\\0 & 0 & 1\\end{matrix}\\right]$"
      ],
      "text/plain": [
       "Matrix([\n",
       "[1, 0, 0],\n",
       "[0, 1, 0],\n",
       "[0, 0, 1]])"
      ]
     },
     "execution_count": 30,
     "metadata": {},
     "output_type": "execute_result"
    }
   ],
   "source": [
    "Matrix ([[1, 0 , 0], [0, 1, 0], [0, 0, 1]])"
   ]
  },
  {
   "cell_type": "markdown",
   "id": "29d92de8",
   "metadata": {},
   "source": [
    "## <center style=\"color:red\">Les tracés avec Sympy </center>"
   ]
  },
  {
   "cell_type": "markdown",
   "id": "d2027059",
   "metadata": {},
   "source": [
    "SymPy utilise la bibliothèque Matplotlib comme backend pour rendre 2-D et 3-D tracés de fonctions mathématiques.\n",
    "\n",
    "**Quelques Exemples de tracés avec sympy**"
   ]
  },
  {
   "cell_type": "code",
   "execution_count": 49,
   "id": "7a88b990",
   "metadata": {},
   "outputs": [
    {
     "name": "stderr",
     "output_type": "stream",
     "text": [
      "Matplotlib is building the font cache; this may take a moment.\n"
     ]
    },
    {
     "data": {
      "image/png": "[encoded data removed]",
      "text/plain": [
       "<Figure size 432x288 with 1 Axes>"
      ]
     },
     "metadata": {
      "needs_background": "light"
     },
     "output_type": "display_data"
    },
    {
     "data": {
      "text/plain": [
       "<sympy.plotting.plot.Plot at 0x8e8f598>"
      ]
     },
     "execution_count": 49,
     "metadata": {},
     "output_type": "execute_result"
    }
   ],
   "source": [
    "from sympy.plotting import plot\n",
    "plot(x**2, line_color='red')"
   ]
  },
  {
   "cell_type": "markdown",
   "id": "35d5eed6",
   "metadata": {},
   "source": [
    "On peut représenter plusieurs graphiques."
   ]
  },
  {
   "cell_type": "code",
   "execution_count": 50,
   "id": "6748d22a",
   "metadata": {},
   "outputs": [
    {
     "data": {
      "image/png": "[encoded data removed]",
      "text/plain": [
       "<Figure size 432x288 with 1 Axes>"
      ]
     },
     "metadata": {
      "needs_background": "light"
     },
     "output_type": "display_data"
    },
    {
     "data": {
      "text/plain": [
       "<sympy.plotting.plot.Plot at 0xa82a088>"
      ]
     },
     "execution_count": 50,
     "metadata": {},
     "output_type": "execute_result"
    }
   ],
   "source": [
    "plot(sin(x),cos(x),(x,-pi,pi))"
   ]
  },
  {
   "cell_type": "markdown",
   "id": "747526fe",
   "metadata": {},
   "source": [
    "La fonction `plot3d()` rend un tracé tridimensionnel.\n",
    "\n",
    "Voici un exemple de tracé de surface 3D\n",
    "\n"
   ]
  },
  {
   "cell_type": "code",
   "execution_count": 53,
   "id": "cddfe5eb",
   "metadata": {},
   "outputs": [
    {
     "data": {
      "image/png": "[encoded data removed]",
      "text/plain": [
       "<Figure size 432x288 with 1 Axes>"
      ]
     },
     "metadata": {
      "needs_background": "light"
     },
     "output_type": "display_data"
    },
    {
     "data": {
      "text/plain": [
       "<sympy.plotting.plot.Plot at 0x5381790>"
      ]
     },
     "execution_count": 53,
     "metadata": {},
     "output_type": "execute_result"
    }
   ],
   "source": [
    "from sympy.plotting import plot3d\n",
    "plot3d(x*y,(x,-10,10),(y,-10,10))"
   ]
  },
  {
   "cell_type": "markdown",
   "id": "1f27fbf3",
   "metadata": {},
   "source": [
    "## <center> <b> <span style=\"color:brown;\">FIN </span> </b></center> \n",
    "\n"
   ]
  }
 ],
 "metadata": {
  "kernelspec": {
   "display_name": "Python 3",
   "language": "python",
   "name": "python3"
  },
  "language_info": {
   "codemirror_mode": {
    "name": "ipython",
    "version": 3
   },
   "file_extension": ".py",
   "mimetype": "text/x-python",
   "name": "python",
   "nbconvert_exporter": "python",
   "pygments_lexer": "ipython3",
   "version": "3.8.8"
  }
 },
 "nbformat": 4,
 "nbformat_minor": 5
}
